{
 "cells": [
  {
   "cell_type": "code",
   "execution_count": null,
   "id": "2b9359a3",
   "metadata": {},
   "outputs": [],
   "source": [
    "# BFS Template\n",
    "from collections import deque\n",
    "from typing import Optional\n",
    "class TreeNode:\n",
    "    def __init__(self, val = 0):\n",
    "        self.val = val\n",
    "        self.left = None\n",
    "        self.right = None\n",
    "\n",
    "class Solution:\n",
    "    '''\n",
    "    @param root: A Tree\n",
    "    @return: Level order a list of lists of integer\n",
    "    '''\n",
    "    def levelOrder(self, root: Optional[TreeNode]) -> list[list[int]]:\n",
    "        if root is None:\n",
    "            return []\n",
    "\n",
    "        queue = deque([root])\n",
    "        result = []\n",
    "        \n",
    "        while queue:\n",
    "            level = []\n",
    "            for _ in range(len(queue)):\n",
    "                node = queue.popleft()\n",
    "                level.append(node.val)\n",
    "                if node.left:\n",
    "                    queue.append(node.left) \n",
    "                if node.right:\n",
    "                    queue.append(node.right)\n",
    "            \n",
    "            result.append(level)\n",
    "        \n",
    "        return result\n",
    "\n"
   ]
  }
 ],
 "metadata": {
  "kernelspec": {
   "display_name": "Python 3",
   "language": "python",
   "name": "python3"
  },
  "language_info": {
   "name": "python",
   "version": "3.12.4"
  }
 },
 "nbformat": 4,
 "nbformat_minor": 5
}
